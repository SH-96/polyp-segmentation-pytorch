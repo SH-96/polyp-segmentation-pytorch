{
 "cells": [
  {
   "cell_type": "markdown",
   "metadata": {},
   "source": [
    "## Import Libraries"
   ]
  },
  {
   "cell_type": "code",
   "execution_count": 1,
   "metadata": {
    "ExecuteTime": {
     "end_time": "2020-07-26T15:05:31.866858Z",
     "start_time": "2020-07-26T15:05:31.047481Z"
    }
   },
   "outputs": [],
   "source": [
    "import os\n",
    "import numpy as np\n",
    "import shutil\n",
    "import gc\n",
    "import random\n",
    "\n",
    "import torch\n",
    "import torchvision\n",
    "import torch.nn as nn\n",
    "import torch.nn.functional as F\n",
    "from torchvision import transforms\n",
    "from torch import optim\n",
    "from torch.utils.data import Dataset, DataLoader\n",
    "from torch.utils.data.sampler import RandomSampler\n",
    "\n",
    "import skimage.io as io\n",
    "\n",
    "from tqdm import tqdm\n",
    "\n",
    "import matplotlib.pyplot as plt\n",
    "\n",
    "from PIL import Image"
   ]
  },
  {
   "cell_type": "markdown",
   "metadata": {},
   "source": [
    "# Split Dataset"
   ]
  },
  {
   "cell_type": "code",
   "execution_count": 26,
   "metadata": {
    "ExecuteTime": {
     "end_time": "2020-07-26T13:54:46.946910Z",
     "start_time": "2020-07-26T13:54:46.939925Z"
    }
   },
   "outputs": [],
   "source": [
    "def create_text_file(data_dict, data_type, img_txt_path, mask_txt_path = None):\n",
    "    \"\"\"\n",
    "    Function to create text files containing image paths and mask paths\n",
    "    Args:\n",
    "    data_dict: Dictionary containing image paths and mask paths\n",
    "    data_type: \"train\" or \"test\" data\n",
    "    img_text_path: Path of text file containing image paths.\n",
    "    img_mask_path: Path of text file containing mask paths.\n",
    "\n",
    "    Example:\n",
    "    create_text_file(train_dict, \"train\", \"train_images.txt\", \"train_masks.txt\")\n",
    "    \"\"\"\n",
    "    with open(img_txt_path, 'w') as f:\n",
    "        with open(mask_txt_path, 'w') as i:\n",
    "            for key, value in data_dict.items():\n",
    "                f.write(value[0])\n",
    "                i.write(value[1])\n",
    "\n",
    "                f.write(\"\\n\")\n",
    "                i.write(\"\\n\")\n",
    "                \n",
    "    print(\"\\n\\n{0} files created.\\nImages: {1}\\nMasks: {2}\".format(data_type.capitalize(), img_txt_path, mask_txt_path))\n",
    "    return"
   ]
  },
  {
   "cell_type": "code",
   "execution_count": 27,
   "metadata": {
    "ExecuteTime": {
     "end_time": "2020-07-26T13:54:47.183335Z",
     "start_time": "2020-07-26T13:54:47.175377Z"
    }
   },
   "outputs": [],
   "source": [
    "def split_data(data_dir, seed, split_ratio = [.80, .10, .10]):\n",
    "    img_dir = os.path.join(data_dir, \"images\")\n",
    "    mask_dir = os.path.join(data_dir, \"masks\")\n",
    "    \n",
    "    data_dict = {}\n",
    "    for image in os.listdir(img_dir):\n",
    "        img_path = os.path.join(img_dir, image)\n",
    "        mask_path = os.path.join(mask_dir, image)\n",
    "        data_dict[image] = [img_path, mask_path]\n",
    "\n",
    "    # Random Seed\n",
    "    random.seed(random_seed)\n",
    "    data_list = list(data_dict.items())\n",
    "    random.shuffle(data_list)\n",
    "    \n",
    "        \n",
    "    # Data split\n",
    "    train_size = int(len(data_list)*split_ratio[0])\n",
    "    val_size = int(len(data_list)*split_ratio[1])\n",
    "    test_size = len(data_list) - train_size - val_size\n",
    "\n",
    "    train_dict = dict(data_list[:train_size])\n",
    "    val_dict = dict(data_list[train_size:train_size+val_size])\n",
    "    test_dict = dict(data_list[train_size+val_size:])\n",
    "    \n",
    "    return train_dict, val_dict, test_dict"
   ]
  },
  {
   "cell_type": "code",
   "execution_count": 28,
   "metadata": {
    "ExecuteTime": {
     "end_time": "2020-07-26T13:54:47.403885Z",
     "start_time": "2020-07-26T13:54:47.384965Z"
    }
   },
   "outputs": [
    {
     "name": "stdout",
     "output_type": "stream",
     "text": [
      "\n",
      "\n",
      "Train files created.\n",
      "Images: data/train_images.txt\n",
      "Masks: data/train_masks.txt\n",
      "\n",
      "\n",
      "Val files created.\n",
      "Images: data/val_images.txt\n",
      "Masks: data/val_masks.txt\n",
      "\n",
      "\n",
      "Test files created.\n",
      "Images: data/test_images.txt\n",
      "Masks: data/test_masks.txt\n"
     ]
    }
   ],
   "source": [
    "data_dir = \"data\"\n",
    "random_seed = 7\n",
    "split_ratio = [.80, .10, .10]\n",
    "\n",
    "train_dict, val_dict, test_dict = split_data(data_dir, random_seed, split_ratio)\n",
    "\n",
    "train_img_txt = \"data/train_images.txt\"\n",
    "train_mask_txt = \"data/train_masks.txt\"\n",
    "val_img_txt = \"data/val_images.txt\"\n",
    "val_mask_txt = \"data/val_masks.txt\"\n",
    "test_img_txt = \"data/test_images.txt\"\n",
    "test_mask_txt = \"data/test_masks.txt\"\n",
    "\n",
    "create_text_file(train_dict, \"train\", train_img_txt, train_mask_txt)\n",
    "create_text_file(val_dict, \"val\", val_img_txt, val_mask_txt)\n",
    "create_text_file(test_dict, \"test\", test_img_txt, test_mask_txt)"
   ]
  },
  {
   "cell_type": "markdown",
   "metadata": {},
   "source": [
    "## U-Net Parts"
   ]
  },
  {
   "cell_type": "code",
   "execution_count": 29,
   "metadata": {
    "ExecuteTime": {
     "end_time": "2020-07-26T13:54:47.846290Z",
     "start_time": "2020-07-26T13:54:47.831704Z"
    }
   },
   "outputs": [],
   "source": [
    "class DoubleConv(nn.Module):\n",
    "    \"\"\"(convolution => [BN] => ReLU) * 2\"\"\"\n",
    "\n",
    "    def __init__(self, in_channels, out_channels, mid_channels=None):\n",
    "        super().__init__()\n",
    "        if not mid_channels:\n",
    "            mid_channels = out_channels\n",
    "        self.double_conv = nn.Sequential(\n",
    "            nn.Conv2d(in_channels, mid_channels, kernel_size=3, padding=1),\n",
    "            nn.BatchNorm2d(mid_channels),\n",
    "            nn.ReLU(inplace=True),\n",
    "            nn.Conv2d(mid_channels, out_channels, kernel_size=3, padding=1),\n",
    "            nn.BatchNorm2d(out_channels),\n",
    "            nn.ReLU(inplace=True)\n",
    "        )\n",
    "\n",
    "    def forward(self, x):\n",
    "        return self.double_conv(x)\n",
    "\n",
    "\n",
    "class Down(nn.Module):\n",
    "    \"\"\"Downscaling with maxpool then double conv\"\"\"\n",
    "\n",
    "    def __init__(self, in_channels, out_channels):\n",
    "        super().__init__()\n",
    "        self.maxpool_conv = nn.Sequential(\n",
    "            nn.MaxPool2d(2),\n",
    "            DoubleConv(in_channels, out_channels)\n",
    "        )\n",
    "\n",
    "    def forward(self, x):\n",
    "        return self.maxpool_conv(x)\n",
    "\n",
    "\n",
    "class Up(nn.Module):\n",
    "    \"\"\"Upscaling then double conv\"\"\"\n",
    "\n",
    "    def __init__(self, in_channels, out_channels, bilinear=True):\n",
    "        super().__init__()\n",
    "\n",
    "        # if bilinear, use the normal convolutions to reduce the number of channels\n",
    "        if bilinear:\n",
    "            self.up = nn.Upsample(scale_factor=2, mode='bilinear', align_corners=True)\n",
    "            self.conv = DoubleConv(in_channels, out_channels, in_channels // 2)\n",
    "        else:\n",
    "            self.up = nn.ConvTranspose2d(in_channels , in_channels // 2, kernel_size=2, stride=2)\n",
    "            self.conv = DoubleConv(in_channels, out_channels)\n",
    "\n",
    "\n",
    "    def forward(self, x1, x2):\n",
    "        x1 = self.up(x1)\n",
    "        # input is CHW\n",
    "        diffY = x2.size()[2] - x1.size()[2]\n",
    "        diffX = x2.size()[3] - x1.size()[3]\n",
    "\n",
    "        x1 = F.pad(x1, [diffX // 2, diffX - diffX // 2,\n",
    "                        diffY // 2, diffY - diffY // 2])\n",
    "        # if you have padding issues, see\n",
    "        # https://github.com/HaiyongJiang/U-Net-Pytorch-Unstructured-Buggy/commit/0e854509c2cea854e247a9c615f175f76fbb2e3a\n",
    "        # https://github.com/xiaopeng-liao/Pytorch-UNet/commit/8ebac70e633bac59fc22bb5195e513d5832fb3bd\n",
    "        x = torch.cat([x2, x1], dim=1)\n",
    "        return self.conv(x)\n",
    "\n",
    "\n",
    "class OutConv(nn.Module):\n",
    "    def __init__(self, in_channels, out_channels):\n",
    "        super(OutConv, self).__init__()\n",
    "        self.conv = nn.Conv2d(in_channels, out_channels, kernel_size=1)\n",
    "\n",
    "    def forward(self, x):\n",
    "        return self.conv(x)"
   ]
  },
  {
   "cell_type": "markdown",
   "metadata": {},
   "source": [
    "## U-Net Model"
   ]
  },
  {
   "cell_type": "code",
   "execution_count": 30,
   "metadata": {
    "ExecuteTime": {
     "end_time": "2020-07-26T13:54:48.375795Z",
     "start_time": "2020-07-26T13:54:48.365824Z"
    }
   },
   "outputs": [],
   "source": [
    "class UNet(nn.Module):\n",
    "    def __init__(self, n_channels, n_classes, bilinear=True):\n",
    "        super(UNet, self).__init__()\n",
    "        self.n_channels = n_channels\n",
    "        self.n_classes = n_classes\n",
    "        self.bilinear = bilinear\n",
    "\n",
    "        self.inc = DoubleConv(n_channels, 64)\n",
    "        self.down1 = Down(64, 128)\n",
    "        self.down2 = Down(128, 256)\n",
    "        self.down3 = Down(256, 512)\n",
    "        factor = 2 if bilinear else 1\n",
    "        self.down4 = Down(512, 1024 // factor)\n",
    "        self.up1 = Up(1024, 512 // factor, bilinear)\n",
    "        self.up2 = Up(512, 256 // factor, bilinear)\n",
    "        self.up3 = Up(256, 128 // factor, bilinear)\n",
    "        self.up4 = Up(128, 64, bilinear)\n",
    "        self.outc = OutConv(64, n_classes)\n",
    "\n",
    "    def forward(self, x):\n",
    "        x1 = self.inc(x)\n",
    "        x2 = self.down1(x1)\n",
    "        x3 = self.down2(x2)\n",
    "        x4 = self.down3(x3)\n",
    "        x5 = self.down4(x4)\n",
    "        x = self.up1(x5, x4)\n",
    "        x = self.up2(x, x3)\n",
    "        x = self.up3(x, x2)\n",
    "        x = self.up4(x, x1)\n",
    "        logits = self.outc(x)\n",
    "        return logits"
   ]
  },
  {
   "cell_type": "markdown",
   "metadata": {},
   "source": [
    "# Dice BCE Loss"
   ]
  },
  {
   "cell_type": "code",
   "execution_count": 31,
   "metadata": {
    "ExecuteTime": {
     "end_time": "2020-07-26T13:54:49.026038Z",
     "start_time": "2020-07-26T13:54:49.019020Z"
    }
   },
   "outputs": [],
   "source": [
    "\"\"\"\n",
    "Dice BCE Loss Borrowed from: https://www.kaggle.com/bigironsphere/loss-function-library-keras-pytorch/notebook\n",
    "\"\"\"\n",
    "\n",
    "class DiceBCELoss(nn.Module):\n",
    "    def __init__(self, weight=None, size_average=True):\n",
    "        super(DiceBCELoss, self).__init__()\n",
    "\n",
    "    def forward(self, inputs, targets, smooth=1):\n",
    "        inputs = torch.sigmoid(inputs)       \n",
    "        \n",
    "        # Flatten label and prediction tensors\n",
    "        inputs = inputs.view(-1)\n",
    "        targets = targets.view(-1)\n",
    "        \n",
    "        intersection = (inputs * targets).sum()                            \n",
    "        dice_loss = 1 - (2.*intersection + smooth)/(inputs.sum() + targets.sum() + smooth)  \n",
    "        BCE = F.binary_cross_entropy(inputs, targets, reduction='mean')\n",
    "        Dice_BCE = BCE + dice_loss\n",
    "        \n",
    "        return Dice_BCE"
   ]
  },
  {
   "cell_type": "markdown",
   "metadata": {},
   "source": [
    "## Dataset Class"
   ]
  },
  {
   "cell_type": "code",
   "execution_count": 89,
   "metadata": {
    "ExecuteTime": {
     "end_time": "2020-07-26T14:05:00.362405Z",
     "start_time": "2020-07-26T14:05:00.353287Z"
    }
   },
   "outputs": [],
   "source": [
    "# Custom Dataset\n",
    "class PolypDataset(Dataset):\n",
    "    def __init__(self, data_file, label_file, input_size):\n",
    "        with open(data_file) as f:\n",
    "            self.image_paths = f.readlines()\n",
    "        f.close()\n",
    "        \n",
    "        with open(label_file) as f:\n",
    "            self.label_paths = f.readlines()\n",
    "        f.close()\n",
    "\n",
    "        self.image_paths = [x.strip() for x in self.image_paths]\n",
    "        self.label_paths = [x.strip() for x in self.label_paths]\n",
    "        \n",
    "        self.input_size = input_size\n",
    "\n",
    "    def __len__(self):\n",
    "        return len(self.image_paths)\n",
    "\n",
    "    def __getitem__(self, idx):\n",
    "        label = io.imread(self.label_paths[idx])\n",
    "        label = self.preprocess_label()(label)\n",
    "\n",
    "        img = io.imread(self.image_paths[idx])\n",
    "        img = self.preprocess()(img)\n",
    "        return (img, label, idx)\n",
    "    \n",
    "    def preprocess(self):\n",
    "        return transforms.Compose([\n",
    "            transforms.ToPILImage(),\n",
    "            transforms.Resize(self.input_size, Image.BICUBIC),\n",
    "            transforms.ToTensor(),\n",
    "            ])\n",
    "    \n",
    "    def preprocess_label(self):\n",
    "        return transforms.Compose([\n",
    "            transforms.ToPILImage(),\n",
    "            transforms.Resize(self.input_size, Image.BICUBIC),\n",
    "            transforms.Grayscale(num_output_channels = 1),\n",
    "            transforms.ToTensor()\n",
    "        ])"
   ]
  },
  {
   "cell_type": "markdown",
   "metadata": {},
   "source": [
    "## Load Data"
   ]
  },
  {
   "cell_type": "code",
   "execution_count": 98,
   "metadata": {
    "ExecuteTime": {
     "end_time": "2020-07-26T14:07:21.065928Z",
     "start_time": "2020-07-26T14:07:21.054878Z"
    }
   },
   "outputs": [
    {
     "name": "stdout",
     "output_type": "stream",
     "text": [
      "Data Loaded.\n"
     ]
    }
   ],
   "source": [
    "# Input size for model\n",
    "input_size = (128, 128)\n",
    "\n",
    "# Create train and validation sets\n",
    "train_images_file = \"data/train_images.txt\"\n",
    "train_labels_file = \"data/train_masks.txt\"\n",
    "val_images_file = \"data/val_images.txt\"\n",
    "val_labels_file = \"data/val_masks.txt\"\n",
    "\n",
    "# Initialise Datasets\n",
    "train_set = PolypDataset(train_images_file, train_labels_file, input_size)\n",
    "val_set = PolypDataset(val_images_file, val_labels_file, input_size)\n",
    "\n",
    "# Batch size for training\n",
    "batch_size = 8\n",
    "\n",
    "# Random seed for dataloader\n",
    "random_seed = 7\n",
    "\n",
    "# Initialize Dataloaders\n",
    "torch.manual_seed(random_seed)\n",
    "train_loader = DataLoader(train_set, batch_size = batch_size, shuffle = True)\n",
    "val_loader = DataLoader(val_set, batch_size = batch_size, shuffle = True)\n",
    "print(\"Data Loaded.\")"
   ]
  },
  {
   "cell_type": "code",
   "execution_count": 99,
   "metadata": {
    "ExecuteTime": {
     "end_time": "2020-07-26T14:07:21.756345Z",
     "start_time": "2020-07-26T14:07:21.405008Z"
    }
   },
   "outputs": [
    {
     "name": "stdout",
     "output_type": "stream",
     "text": [
      "Model Input Shape:  torch.Size([8, 3, 128, 128])\n",
      "Masks Shape:  torch.Size([8, 1, 128, 128])\n"
     ]
    },
    {
     "data": {
      "image/png": "[encoded data removed]",
      "text/plain": [
       "<Figure size 432x288 with 2 Axes>"
      ]
     },
     "metadata": {
      "needs_background": "light"
     },
     "output_type": "display_data"
    }
   ],
   "source": [
    "def get_image_sample(data_loader):\n",
    "    # Get Sample\n",
    "    inputs, masks, idx = next(iter(data_loader))\n",
    "    \n",
    "    # Display Masks\n",
    "    fig, axes = plt.subplots(1, 2)\n",
    "    titles = ['Input', 'Mask']\n",
    "    image_sets = [inputs[0], masks[0]]\n",
    "    for i, axis in enumerate(axes):\n",
    "        if(i == 0):\n",
    "            axis.imshow(image_sets[i].squeeze(0).permute(1, 2, 0))\n",
    "        else:\n",
    "            axis.imshow(image_sets[i].squeeze(0), cmap = 'gray')\n",
    "        axis.set_title(titles[i])\n",
    "\n",
    "    print(\"Model Input Shape: \", inputs.shape)\n",
    "    print(\"Masks Shape: \", masks.shape)\n",
    "\n",
    "# Get Sample\n",
    "get_image_sample(train_loader)"
   ]
  },
  {
   "cell_type": "markdown",
   "metadata": {},
   "source": [
    "## Train Model"
   ]
  },
  {
   "cell_type": "code",
   "execution_count": 100,
   "metadata": {
    "ExecuteTime": {
     "end_time": "2020-07-26T14:07:22.119686Z",
     "start_time": "2020-07-26T14:07:22.107711Z"
    }
   },
   "outputs": [],
   "source": [
    "def train(model, train_dataloader, val_dataloader, batch_size, num_epochs, learning_rate, patience, model_path, device):\n",
    "    \"\"\"\n",
    "    Function to train a u-net model for segmentation.\n",
    "    model: U-Net model\n",
    "    Args:\n",
    "        train_dataloader: training set\n",
    "        val_dataloader: validation set\n",
    "        batch_size: batch_size for training.\n",
    "        num_epochs: number of epochs to train.\n",
    "        learning_rate: learning rate for the optimiser\n",
    "        patience: number of epochs for early stopping.\n",
    "        model_path: checkpoint path to store the model.\n",
    "        device: CPU or GPU to train the model.\n",
    "    \n",
    "    Returns: A dictionary containing the training and validation losses.\n",
    "    \"\"\"\n",
    "    \n",
    "    # Loss Collection\n",
    "    train_losses  = []\n",
    "    val_losses = []\n",
    "\n",
    "    # Loss function\n",
    "    criterion = DiceBCELoss().to(device)\n",
    "\n",
    "    # Optimiser\n",
    "    optimiser = optim.SGD(model.parameters(), lr=learning_rate)\n",
    "    scheduler = optim.lr_scheduler.ReduceLROnPlateau(optimiser, 'min' if model.n_classes > 1 else 'max', patience=patience)\n",
    "\n",
    "    # Patience count\n",
    "    count = 0\n",
    "\n",
    "    for epoch in tqdm(range(1, num_epochs+1)):\n",
    "        current_train_loss = 0.0\n",
    "        current_val_loss = 0.0\n",
    "\n",
    "        # Train model\n",
    "        model.train()\n",
    "        for features, labels, idx in train_dataloader:\n",
    "            optimiser.zero_grad()\n",
    "            features, labels = features.to(device), labels.to(device)\n",
    "            output = model.forward(features)\n",
    "            loss = criterion(output, labels)\n",
    "            loss.backward()\n",
    "            optimiser.step()\n",
    "            current_train_loss += loss.item()\n",
    "\n",
    "            del features, labels\n",
    "            gc.collect()\n",
    "            torch.cuda.empty_cache()\n",
    "            \n",
    "        # Evaluate model\n",
    "        model.eval()\n",
    "        with torch.no_grad():\n",
    "            for features, labels, idx in val_dataloader:\n",
    "                features, labels = features.to(device), labels.to(device)\n",
    "                output = model.forward(features)\n",
    "                loss = criterion(output, labels)\n",
    "                current_val_loss += loss.item()\n",
    "\n",
    "                del features, labels\n",
    "                gc.collect()\n",
    "                torch.cuda.empty_cache()\n",
    "        \n",
    "        # Store Losses\n",
    "        current_train_loss /= len(train_dataloader)\n",
    "        train_losses.append(current_train_loss)\n",
    "\n",
    "        current_val_loss /= len(val_dataloader)\n",
    "        val_losses.append(current_val_loss)\n",
    "\n",
    "        print(\"Epoch: {0:d} -> Train Loss: {1:0.8f} Val Loss: {2:0.8f} \".format(epoch, current_train_loss, current_val_loss))\n",
    "        if((epoch == 1) or (current_val_loss < best_val_loss)):\n",
    "            best_val_loss = current_val_loss\n",
    "            eq_train_loss = current_train_loss\n",
    "            best_epoch = epoch\n",
    "            count = 0\n",
    "\n",
    "            # Save best model\n",
    "            torch.save(model.state_dict(), model_path)\n",
    "        \n",
    "        # Check for patience level\n",
    "        if(current_val_loss > best_val_loss):\n",
    "            count += 1\n",
    "            if(count == patience):\n",
    "                break\n",
    "\n",
    "    # Save best parameters\n",
    "    best_model_params = {'train_losses': train_losses, \n",
    "                        'val_losses': val_losses, \n",
    "                        'best_val_loss': best_val_loss,\n",
    "                        'eq_train_loss': eq_train_loss,\n",
    "                        'best_epoch': best_epoch}\n",
    "                             \n",
    "    return best_model_params"
   ]
  },
  {
   "cell_type": "code",
   "execution_count": 107,
   "metadata": {
    "ExecuteTime": {
     "end_time": "2020-07-26T14:13:49.322024Z",
     "start_time": "2020-07-26T14:08:28.239759Z"
    }
   },
   "outputs": [
    {
     "name": "stderr",
     "output_type": "stream",
     "text": [
      "\n",
      "  0%|                                                                                           | 0/10 [00:00<?, ?it/s]\u001b[A\n",
      " 10%|████████▎                                                                          | 1/10 [00:31<04:42, 31.34s/it]\u001b[A"
     ]
    },
    {
     "name": "stdout",
     "output_type": "stream",
     "text": [
      "Epoch: 1 -> Train Loss: 1.50605520 Val Loss: 1.49164899 \n"
     ]
    },
    {
     "name": "stderr",
     "output_type": "stream",
     "text": [
      "\n",
      " 20%|████████████████▌                                                                  | 2/10 [01:02<04:10, 31.33s/it]\u001b[A"
     ]
    },
    {
     "name": "stdout",
     "output_type": "stream",
     "text": [
      "Epoch: 2 -> Train Loss: 1.46901990 Val Loss: 1.47728251 \n"
     ]
    },
    {
     "name": "stderr",
     "output_type": "stream",
     "text": [
      "\n",
      " 30%|████████████████████████▉                                                          | 3/10 [01:34<03:40, 31.52s/it]\u001b[A"
     ]
    },
    {
     "name": "stdout",
     "output_type": "stream",
     "text": [
      "Epoch: 3 -> Train Loss: 1.44050919 Val Loss: 1.43588905 \n",
      "Epoch: 4 -> Train Loss: 1.41779650 Val Loss: 1.40777164 \n"
     ]
    },
    {
     "name": "stderr",
     "output_type": "stream",
     "text": [
      "\n",
      " 40%|█████████████████████████████████▏                                                 | 4/10 [02:06<03:09, 31.65s/it]\u001b[A\n",
      " 50%|█████████████████████████████████████████▌                                         | 5/10 [02:39<02:39, 31.92s/it]\u001b[A"
     ]
    },
    {
     "name": "stdout",
     "output_type": "stream",
     "text": [
      "Epoch: 5 -> Train Loss: 1.39976434 Val Loss: 1.38812684 \n",
      "Epoch: 6 -> Train Loss: 1.38009238 Val Loss: 1.37509000 \n"
     ]
    },
    {
     "name": "stderr",
     "output_type": "stream",
     "text": [
      "\n",
      " 60%|█████████████████████████████████████████████████▊                                 | 6/10 [03:11<02:08, 32.00s/it]\u001b[A\n"
     ]
    },
    {
     "name": "stdout",
     "output_type": "stream",
     "text": [
      "Epoch: 7 -> Train Loss: 1.36631250 Val Loss: 1.35431997 \n"
     ]
    },
    {
     "name": "stderr",
     "output_type": "stream",
     "text": [
      " 70%|██████████████████████████████████████████████████████████                         | 7/10 [03:43<01:36, 32.10s/it]\u001b[A\n",
      " 80%|██████████████████████████████████████████████████████████████████▍                | 8/10 [04:16<01:04, 32.20s/it]\u001b[A"
     ]
    },
    {
     "name": "stdout",
     "output_type": "stream",
     "text": [
      "Epoch: 8 -> Train Loss: 1.35082078 Val Loss: 1.35007802 \n"
     ]
    },
    {
     "name": "stderr",
     "output_type": "stream",
     "text": [
      "\n",
      " 90%|██████████████████████████████████████████████████████████████████████████▋        | 9/10 [04:48<00:32, 32.15s/it]\u001b[A"
     ]
    },
    {
     "name": "stdout",
     "output_type": "stream",
     "text": [
      "Epoch: 9 -> Train Loss: 1.33817294 Val Loss: 1.33214451 \n"
     ]
    },
    {
     "name": "stderr",
     "output_type": "stream",
     "text": [
      "\n",
      "100%|██████████████████████████████████████████████████████████████████████████████████| 10/10 [05:20<00:00, 32.08s/it]\u001b[A"
     ]
    },
    {
     "name": "stdout",
     "output_type": "stream",
     "text": [
      "Epoch: 10 -> Train Loss: 1.32567327 Val Loss: 1.32927270 \n"
     ]
    },
    {
     "name": "stderr",
     "output_type": "stream",
     "text": [
      "\n"
     ]
    }
   ],
   "source": [
    "# Checkpoint path\n",
    "output_dir = \"experiment_test\"\n",
    "if not os.path.exists(output_dir):\n",
    "    os.makedirs(output_dir)\n",
    "\n",
    "save_path = os.path.join(output_dir, \"polyp_unet.pth\")\n",
    "\n",
    "device = torch.device('cuda' if torch.cuda.is_available() else 'cpu')\n",
    "\n",
    "# Initiliase Model\n",
    "torch.manual_seed(random_seed)\n",
    "model = UNet(n_channels = 3, n_classes = 1, bilinear = False).to(device)\n",
    "\n",
    "# Hyperparameters\n",
    "num_epochs = 10\n",
    "learning_rate = 0.0001\n",
    "patience = 10\n",
    "\n",
    "# Train model\n",
    "best_model_params = train(model, train_loader, val_loader, batch_size, num_epochs, \n",
    "                          learning_rate, patience, save_path, device)"
   ]
  },
  {
   "cell_type": "code",
   "execution_count": 108,
   "metadata": {
    "ExecuteTime": {
     "end_time": "2020-07-26T14:13:49.411847Z",
     "start_time": "2020-07-26T14:13:49.369654Z"
    }
   },
   "outputs": [
    {
     "name": "stdout",
     "output_type": "stream",
     "text": [
      "Training complete.\n"
     ]
    }
   ],
   "source": [
    "print(\"Training complete.\")\n",
    "\n",
    "# Delete model to free memory\n",
    "del model, best_model_params\n",
    "gc.collect()\n",
    "torch.cuda.empty_cache()"
   ]
  },
  {
   "cell_type": "code",
   "execution_count": 109,
   "metadata": {
    "ExecuteTime": {
     "end_time": "2020-07-26T14:13:49.893940Z",
     "start_time": "2020-07-26T14:13:49.455731Z"
    }
   },
   "outputs": [
    {
     "data": {
      "text/plain": [
       "UNet(\n",
       "  (inc): DoubleConv(\n",
       "    (double_conv): Sequential(\n",
       "      (0): Conv2d(3, 64, kernel_size=(3, 3), stride=(1, 1), padding=(1, 1))\n",
       "      (1): BatchNorm2d(64, eps=1e-05, momentum=0.1, affine=True, track_running_stats=True)\n",
       "      (2): ReLU(inplace=True)\n",
       "      (3): Conv2d(64, 64, kernel_size=(3, 3), stride=(1, 1), padding=(1, 1))\n",
       "      (4): BatchNorm2d(64, eps=1e-05, momentum=0.1, affine=True, track_running_stats=True)\n",
       "      (5): ReLU(inplace=True)\n",
       "    )\n",
       "  )\n",
       "  (down1): Down(\n",
       "    (maxpool_conv): Sequential(\n",
       "      (0): MaxPool2d(kernel_size=2, stride=2, padding=0, dilation=1, ceil_mode=False)\n",
       "      (1): DoubleConv(\n",
       "        (double_conv): Sequential(\n",
       "          (0): Conv2d(64, 128, kernel_size=(3, 3), stride=(1, 1), padding=(1, 1))\n",
       "          (1): BatchNorm2d(128, eps=1e-05, momentum=0.1, affine=True, track_running_stats=True)\n",
       "          (2): ReLU(inplace=True)\n",
       "          (3): Conv2d(128, 128, kernel_size=(3, 3), stride=(1, 1), padding=(1, 1))\n",
       "          (4): BatchNorm2d(128, eps=1e-05, momentum=0.1, affine=True, track_running_stats=True)\n",
       "          (5): ReLU(inplace=True)\n",
       "        )\n",
       "      )\n",
       "    )\n",
       "  )\n",
       "  (down2): Down(\n",
       "    (maxpool_conv): Sequential(\n",
       "      (0): MaxPool2d(kernel_size=2, stride=2, padding=0, dilation=1, ceil_mode=False)\n",
       "      (1): DoubleConv(\n",
       "        (double_conv): Sequential(\n",
       "          (0): Conv2d(128, 256, kernel_size=(3, 3), stride=(1, 1), padding=(1, 1))\n",
       "          (1): BatchNorm2d(256, eps=1e-05, momentum=0.1, affine=True, track_running_stats=True)\n",
       "          (2): ReLU(inplace=True)\n",
       "          (3): Conv2d(256, 256, kernel_size=(3, 3), stride=(1, 1), padding=(1, 1))\n",
       "          (4): BatchNorm2d(256, eps=1e-05, momentum=0.1, affine=True, track_running_stats=True)\n",
       "          (5): ReLU(inplace=True)\n",
       "        )\n",
       "      )\n",
       "    )\n",
       "  )\n",
       "  (down3): Down(\n",
       "    (maxpool_conv): Sequential(\n",
       "      (0): MaxPool2d(kernel_size=2, stride=2, padding=0, dilation=1, ceil_mode=False)\n",
       "      (1): DoubleConv(\n",
       "        (double_conv): Sequential(\n",
       "          (0): Conv2d(256, 512, kernel_size=(3, 3), stride=(1, 1), padding=(1, 1))\n",
       "          (1): BatchNorm2d(512, eps=1e-05, momentum=0.1, affine=True, track_running_stats=True)\n",
       "          (2): ReLU(inplace=True)\n",
       "          (3): Conv2d(512, 512, kernel_size=(3, 3), stride=(1, 1), padding=(1, 1))\n",
       "          (4): BatchNorm2d(512, eps=1e-05, momentum=0.1, affine=True, track_running_stats=True)\n",
       "          (5): ReLU(inplace=True)\n",
       "        )\n",
       "      )\n",
       "    )\n",
       "  )\n",
       "  (down4): Down(\n",
       "    (maxpool_conv): Sequential(\n",
       "      (0): MaxPool2d(kernel_size=2, stride=2, padding=0, dilation=1, ceil_mode=False)\n",
       "      (1): DoubleConv(\n",
       "        (double_conv): Sequential(\n",
       "          (0): Conv2d(512, 1024, kernel_size=(3, 3), stride=(1, 1), padding=(1, 1))\n",
       "          (1): BatchNorm2d(1024, eps=1e-05, momentum=0.1, affine=True, track_running_stats=True)\n",
       "          (2): ReLU(inplace=True)\n",
       "          (3): Conv2d(1024, 1024, kernel_size=(3, 3), stride=(1, 1), padding=(1, 1))\n",
       "          (4): BatchNorm2d(1024, eps=1e-05, momentum=0.1, affine=True, track_running_stats=True)\n",
       "          (5): ReLU(inplace=True)\n",
       "        )\n",
       "      )\n",
       "    )\n",
       "  )\n",
       "  (up1): Up(\n",
       "    (up): ConvTranspose2d(1024, 512, kernel_size=(2, 2), stride=(2, 2))\n",
       "    (conv): DoubleConv(\n",
       "      (double_conv): Sequential(\n",
       "        (0): Conv2d(1024, 512, kernel_size=(3, 3), stride=(1, 1), padding=(1, 1))\n",
       "        (1): BatchNorm2d(512, eps=1e-05, momentum=0.1, affine=True, track_running_stats=True)\n",
       "        (2): ReLU(inplace=True)\n",
       "        (3): Conv2d(512, 512, kernel_size=(3, 3), stride=(1, 1), padding=(1, 1))\n",
       "        (4): BatchNorm2d(512, eps=1e-05, momentum=0.1, affine=True, track_running_stats=True)\n",
       "        (5): ReLU(inplace=True)\n",
       "      )\n",
       "    )\n",
       "  )\n",
       "  (up2): Up(\n",
       "    (up): ConvTranspose2d(512, 256, kernel_size=(2, 2), stride=(2, 2))\n",
       "    (conv): DoubleConv(\n",
       "      (double_conv): Sequential(\n",
       "        (0): Conv2d(512, 256, kernel_size=(3, 3), stride=(1, 1), padding=(1, 1))\n",
       "        (1): BatchNorm2d(256, eps=1e-05, momentum=0.1, affine=True, track_running_stats=True)\n",
       "        (2): ReLU(inplace=True)\n",
       "        (3): Conv2d(256, 256, kernel_size=(3, 3), stride=(1, 1), padding=(1, 1))\n",
       "        (4): BatchNorm2d(256, eps=1e-05, momentum=0.1, affine=True, track_running_stats=True)\n",
       "        (5): ReLU(inplace=True)\n",
       "      )\n",
       "    )\n",
       "  )\n",
       "  (up3): Up(\n",
       "    (up): ConvTranspose2d(256, 128, kernel_size=(2, 2), stride=(2, 2))\n",
       "    (conv): DoubleConv(\n",
       "      (double_conv): Sequential(\n",
       "        (0): Conv2d(256, 128, kernel_size=(3, 3), stride=(1, 1), padding=(1, 1))\n",
       "        (1): BatchNorm2d(128, eps=1e-05, momentum=0.1, affine=True, track_running_stats=True)\n",
       "        (2): ReLU(inplace=True)\n",
       "        (3): Conv2d(128, 128, kernel_size=(3, 3), stride=(1, 1), padding=(1, 1))\n",
       "        (4): BatchNorm2d(128, eps=1e-05, momentum=0.1, affine=True, track_running_stats=True)\n",
       "        (5): ReLU(inplace=True)\n",
       "      )\n",
       "    )\n",
       "  )\n",
       "  (up4): Up(\n",
       "    (up): ConvTranspose2d(128, 64, kernel_size=(2, 2), stride=(2, 2))\n",
       "    (conv): DoubleConv(\n",
       "      (double_conv): Sequential(\n",
       "        (0): Conv2d(128, 64, kernel_size=(3, 3), stride=(1, 1), padding=(1, 1))\n",
       "        (1): BatchNorm2d(64, eps=1e-05, momentum=0.1, affine=True, track_running_stats=True)\n",
       "        (2): ReLU(inplace=True)\n",
       "        (3): Conv2d(64, 64, kernel_size=(3, 3), stride=(1, 1), padding=(1, 1))\n",
       "        (4): BatchNorm2d(64, eps=1e-05, momentum=0.1, affine=True, track_running_stats=True)\n",
       "        (5): ReLU(inplace=True)\n",
       "      )\n",
       "    )\n",
       "  )\n",
       "  (outc): OutConv(\n",
       "    (conv): Conv2d(64, 1, kernel_size=(1, 1), stride=(1, 1))\n",
       "  )\n",
       ")"
      ]
     },
     "execution_count": 109,
     "metadata": {},
     "output_type": "execute_result"
    }
   ],
   "source": [
    "# Get test set\n",
    "test_images_file = \"data/test_images.txt\"\n",
    "test_labels_file = \"data/test_masks.txt\"\n",
    "\n",
    "input_size = (128, 128)\n",
    "torch.manual_seed(7)\n",
    "test_set = PolypDataset(test_images_file, test_labels_file, input_size)\n",
    "test_loader = DataLoader(test_set, batch_size = 1, sampler = RandomSampler(test_set))\n",
    "\n",
    "# Inference device\n",
    "device = 'cuda' if torch.cuda.is_available() else 'cpu'\n",
    "\n",
    "# Load Model\n",
    "model_path = \"experiment_test/polyp_unet.pth\"\n",
    "model = UNet(n_channels = 3, n_classes = 1, bilinear = False).to(device)\n",
    "model.load_state_dict(torch.load(model_path, map_location = device))\n",
    "model.eval()"
   ]
  },
  {
   "cell_type": "code",
   "execution_count": 110,
   "metadata": {
    "ExecuteTime": {
     "end_time": "2020-07-26T14:13:49.993007Z",
     "start_time": "2020-07-26T14:13:49.942527Z"
    }
   },
   "outputs": [],
   "source": [
    "# Predict Function\n",
    "def predict_mask(input, threshold):\n",
    "    output = model(input.to(device))\n",
    "    output = torch.sigmoid(output).detach().cpu().numpy()\n",
    "    pred = output > threshold\n",
    "\n",
    "    return pred\n",
    "\n",
    "# Threshold for prediction\n",
    "threshold = 0.5\n",
    "\n",
    "# Get test image\n",
    "input, label, idx = next(iter(test_loader))\n",
    "\n",
    "pred = predict_mask(input, threshold)"
   ]
  },
  {
   "cell_type": "code",
   "execution_count": 111,
   "metadata": {
    "ExecuteTime": {
     "end_time": "2020-07-26T14:13:50.573224Z",
     "start_time": "2020-07-26T14:13:50.058143Z"
    }
   },
   "outputs": [
    {
     "data": {
      "image/png": "[encoded data removed]",
      "text/plain": [
       "<Figure size 1200x560 with 3 Axes>"
      ]
     },
     "metadata": {
      "needs_background": "light"
     },
     "output_type": "display_data"
    }
   ],
   "source": [
    "def visualize(input, pred):\n",
    "    fig, axes = plt.subplots(1, 3, figsize=(15, 7), dpi=80, sharex=True, sharey=True)\n",
    "    titles = ['Input', 'Prediction', 'GT Mask']\n",
    "    image_sets = [input, pred, label]\n",
    "    for i, axis in enumerate(axes):\n",
    "        if (i == 0):\n",
    "            img = image_sets[i].squeeze(0).permute(1, 2, 0)\n",
    "        else:\n",
    "            img = image_sets[i].squeeze()\n",
    "        axis.imshow(img, cmap = 'gray')\n",
    "        axis.set_title(titles[i])\n",
    "\n",
    "\n",
    "# Visualise Prediction\n",
    "visualize(input, pred)"
   ]
  }
 ],
 "metadata": {
  "kernelspec": {
   "display_name": "Python 3",
   "language": "python",
   "name": "python3"
  },
  "language_info": {
   "codemirror_mode": {
    "name": "ipython",
    "version": 3
   },
   "file_extension": ".py",
   "mimetype": "text/x-python",
   "name": "python",
   "nbconvert_exporter": "python",
   "pygments_lexer": "ipython3",
   "version": "3.7.4"
  },
  "varInspector": {
   "cols": {
    "lenName": 16,
    "lenType": 16,
    "lenVar": 40
   },
   "kernels_config": {
    "python": {
     "delete_cmd_postfix": "",
     "delete_cmd_prefix": "del ",
     "library": "var_list.py",
     "varRefreshCmd": "print(var_dic_list())"
    },
    "r": {
     "delete_cmd_postfix": ") ",
     "delete_cmd_prefix": "rm(",
     "library": "var_list.r",
     "varRefreshCmd": "cat(var_dic_list()) "
    }
   },
   "types_to_exclude": [
    "module",
    "function",
    "builtin_function_or_method",
    "instance",
    "_Feature"
   ],
   "window_display": false
  }
 },
 "nbformat": 4,
 "nbformat_minor": 2
}
